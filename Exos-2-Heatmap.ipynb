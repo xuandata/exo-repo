{
 "cells": [
  {
   "cell_type": "code",
   "execution_count": null,
   "metadata": {},
   "outputs": [],
   "source": [
    "# Let's go back to house pricing.csv, and try to do a little of what is commonly called : feature engineering\n",
    "\n",
    "# 1. Import usual librairies\n",
    "# 2. Import the dataset named house_pricing.csv. Cut out the dataset to keep only the last 15 columns\n",
    "# 3. Create a correlation matrix with all dataset's variables\n",
    "# 4. Create a heatmap with differentes correlations values\n",
    "# 5. What is the top 3 features we should keep to predict SalePrice ?"
   ]
  },
  {
   "cell_type": "code",
   "execution_count": null,
   "metadata": {},
   "outputs": [],
   "source": [
    "# Note : \"Le but des stats est de donner une analyse observationnelle sur la norme\""
   ]
  }
 ],
 "metadata": {
  "language_info": {
   "name": "python"
  }
 },
 "nbformat": 4,
 "nbformat_minor": 2
}
